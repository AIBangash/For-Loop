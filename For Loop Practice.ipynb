{
 "cells": [
  {
   "cell_type": "markdown",
   "id": "0effabc1",
   "metadata": {},
   "source": [
    "# For Loop"
   ]
  },
  {
   "cell_type": "code",
   "execution_count": 25,
   "id": "8f7b5877",
   "metadata": {},
   "outputs": [
    {
     "name": "stdout",
     "output_type": "stream",
     "text": [
      "Gulshan Ali\n",
      "Gulshan Ali\n",
      "Gulshan Ali\n",
      "Gulshan Ali\n"
     ]
    }
   ],
   "source": [
    "print(\"Gulshan Ali\")\n",
    "print(\"Gulshan Ali\")\n",
    "print(\"Gulshan Ali\")\n",
    "print(\"Gulshan Ali\")"
   ]
  },
  {
   "cell_type": "code",
   "execution_count": 5,
   "id": "d145b7a5",
   "metadata": {},
   "outputs": [
    {
     "name": "stdout",
     "output_type": "stream",
     "text": [
      "0\n",
      "1\n",
      "2\n",
      "3\n",
      "4\n",
      "5\n",
      "6\n",
      "7\n",
      "8\n",
      "9\n"
     ]
    }
   ],
   "source": [
    "for number in range(10):\n",
    "    print(number)"
   ]
  },
  {
   "cell_type": "code",
   "execution_count": 7,
   "id": "a275536c",
   "metadata": {},
   "outputs": [
    {
     "name": "stdout",
     "output_type": "stream",
     "text": [
      "2\n",
      "3\n",
      "4\n",
      "5\n",
      "6\n",
      "7\n",
      "8\n",
      "9\n"
     ]
    }
   ],
   "source": [
    "for number in range(2,10): #start from 2\n",
    "    print(number)"
   ]
  },
  {
   "cell_type": "code",
   "execution_count": 10,
   "id": "2ec84879",
   "metadata": {},
   "outputs": [
    {
     "name": "stdout",
     "output_type": "stream",
     "text": [
      "1\n",
      "4\n",
      "7\n",
      "10\n"
     ]
    }
   ],
   "source": [
    "for number in range(1,11,3): #start from index 1 to 10 taking steps 3\n",
    "    print(number)"
   ]
  },
  {
   "cell_type": "code",
   "execution_count": 11,
   "id": "94d4435a",
   "metadata": {},
   "outputs": [
    {
     "name": "stdout",
     "output_type": "stream",
     "text": [
      "11\n",
      "8\n",
      "5\n",
      "2\n"
     ]
    }
   ],
   "source": [
    "for number in range(11,1,-3): #revese step\n",
    "    print(number)"
   ]
  },
  {
   "cell_type": "code",
   "execution_count": 12,
   "id": "8ad08edf",
   "metadata": {},
   "outputs": [
    {
     "data": {
      "text/plain": [
       "['Peshawar', 'Karachi', 'Multan']"
      ]
     },
     "execution_count": 12,
     "metadata": {},
     "output_type": "execute_result"
    }
   ],
   "source": [
    "cities=['Peshawar', 'Karachi',\"Multan\"]\n",
    "cities"
   ]
  },
  {
   "cell_type": "code",
   "execution_count": 13,
   "id": "b83f0b42",
   "metadata": {},
   "outputs": [
    {
     "name": "stdout",
     "output_type": "stream",
     "text": [
      "Peshawar\n",
      "Karachi\n",
      "Multan\n"
     ]
    }
   ],
   "source": [
    "for city in cities:\n",
    "    print(city)"
   ]
  },
  {
   "cell_type": "code",
   "execution_count": 16,
   "id": "aef50196",
   "metadata": {},
   "outputs": [
    {
     "name": "stdout",
     "output_type": "stream",
     "text": [
      "The city under consideration is Peshawar\n",
      "The city under consideration is Karachi\n",
      "The city under consideration is Multan\n"
     ]
    }
   ],
   "source": [
    "for city in cities:\n",
    "    print(f\"The city under consideration is {city}\")"
   ]
  },
  {
   "cell_type": "code",
   "execution_count": 20,
   "id": "12a27d8d",
   "metadata": {},
   "outputs": [
    {
     "name": "stdout",
     "output_type": "stream",
     "text": [
      "The city under consideration is  Peshawar\n",
      "The city under consideration is  Karachi\n",
      "The city under consideration is  Multan\n"
     ]
    }
   ],
   "source": [
    "for city in cities:\n",
    "    print(\"The city under consideration is \",city)"
   ]
  },
  {
   "cell_type": "code",
   "execution_count": 21,
   "id": "5a327232",
   "metadata": {},
   "outputs": [
    {
     "name": "stdout",
     "output_type": "stream",
     "text": [
      "111\n",
      "222\n",
      "333\n",
      "444\n"
     ]
    }
   ],
   "source": [
    "for num in [111,222,333,444]:\n",
    "    print(num)"
   ]
  },
  {
   "cell_type": "code",
   "execution_count": 22,
   "id": "a802f589",
   "metadata": {},
   "outputs": [
    {
     "name": "stdout",
     "output_type": "stream",
     "text": [
      "P\n",
      "a\n",
      "k\n",
      "i\n",
      "s\n",
      "t\n",
      "a\n",
      "n\n"
     ]
    }
   ],
   "source": [
    "country = \"Pakistan\"\n",
    "\n",
    "for char in country:\n",
    "    print(char)"
   ]
  },
  {
   "cell_type": "code",
   "execution_count": 23,
   "id": "74032ad1",
   "metadata": {},
   "outputs": [
    {
     "name": "stdout",
     "output_type": "stream",
     "text": [
      "P\n",
      "a\n",
      "k\n",
      "i\n",
      "s\n",
      "t\n",
      "a\n",
      "n\n"
     ]
    }
   ],
   "source": [
    "country = \"Pakistan\"\n",
    "\n",
    "for a in country:\n",
    "    print(a)"
   ]
  },
  {
   "cell_type": "code",
   "execution_count": 24,
   "id": "4e76c0f7",
   "metadata": {},
   "outputs": [
    {
     "name": "stdout",
     "output_type": "stream",
     "text": [
      "Pakistan\n",
      "Iran\n"
     ]
    }
   ],
   "source": [
    "country = \"Pakistan\",\"Iran\" #if value greater than 1 then it become tupple so it will take whole value as one char\n",
    "\n",
    "for char in country:\n",
    "    print(char)"
   ]
  },
  {
   "cell_type": "markdown",
   "id": "3ef1f7ba",
   "metadata": {},
   "source": [
    "# for loop's break and continue"
   ]
  },
  {
   "cell_type": "code",
   "execution_count": 26,
   "id": "5c266c6a",
   "metadata": {},
   "outputs": [
    {
     "name": "stdout",
     "output_type": "stream",
     "text": [
      "0\n"
     ]
    }
   ],
   "source": [
    "for number in range(10):\n",
    "    if number%3==1:\n",
    "        break\n",
    "    print(number)"
   ]
  },
  {
   "cell_type": "code",
   "execution_count": 27,
   "id": "91b4c71e",
   "metadata": {},
   "outputs": [],
   "source": [
    "for number in range(10):\n",
    "    if number%3==0:\n",
    "        break\n",
    "    print(number)"
   ]
  },
  {
   "cell_type": "code",
   "execution_count": 28,
   "id": "89ce8efa",
   "metadata": {},
   "outputs": [
    {
     "name": "stdout",
     "output_type": "stream",
     "text": [
      "0\n"
     ]
    }
   ],
   "source": [
    "for number in range(10):\n",
    "    if number%3!=0:\n",
    "        break\n",
    "    print(number)"
   ]
  },
  {
   "cell_type": "code",
   "execution_count": 29,
   "id": "73eda1f6",
   "metadata": {},
   "outputs": [
    {
     "name": "stdout",
     "output_type": "stream",
     "text": [
      "3\n",
      "7\n",
      "9\n"
     ]
    }
   ],
   "source": [
    "for number in [3,7,9,80]:\n",
    "    if number%2==0:\n",
    "        break\n",
    "    print(number)"
   ]
  },
  {
   "cell_type": "code",
   "execution_count": 30,
   "id": "872a28ff",
   "metadata": {},
   "outputs": [
    {
     "name": "stdout",
     "output_type": "stream",
     "text": [
      "3\n",
      "7\n"
     ]
    }
   ],
   "source": [
    "for number in [3,7,10,11,13,80]: #it breaks when reached value 10, as it results 0 when devides by 2 \n",
    "    if number%2==0:\n",
    "        break\n",
    "    print(number)"
   ]
  },
  {
   "cell_type": "code",
   "execution_count": 31,
   "id": "9924a6e4",
   "metadata": {},
   "outputs": [
    {
     "name": "stdout",
     "output_type": "stream",
     "text": [
      "0\n",
      "1\n",
      "2\n",
      "3\n",
      "4\n",
      "5\n",
      "6\n",
      "8\n",
      "9\n"
     ]
    }
   ],
   "source": [
    "for num in range(10):\n",
    "    if num==7:\n",
    "        continue # value 7 not printed as num reach value 7 it skip as last value do not printed so loop continue from next value\n",
    "    print(num)\n",
    "    "
   ]
  },
  {
   "cell_type": "code",
   "execution_count": 32,
   "id": "6126b859",
   "metadata": {},
   "outputs": [
    {
     "name": "stdout",
     "output_type": "stream",
     "text": [
      "0\n",
      "1\n",
      "2\n",
      "3\n",
      "5\n",
      "7\n",
      "8\n",
      "9\n"
     ]
    }
   ],
   "source": [
    "for num in range(10):\n",
    "    if num==4 or num==6:\n",
    "        continue \n",
    "    print(num)"
   ]
  },
  {
   "cell_type": "markdown",
   "id": "5d4168a3",
   "metadata": {},
   "source": [
    "# Nested For Loop"
   ]
  },
  {
   "cell_type": "code",
   "execution_count": 2,
   "id": "7f6c5644",
   "metadata": {},
   "outputs": [
    {
     "name": "stdout",
     "output_type": "stream",
     "text": [
      "Inner loop begains\n",
      "0 P\n",
      "0 a\n",
      "0 k\n",
      "Inner loop begains\n",
      "1 P\n",
      "1 a\n",
      "1 k\n",
      "Inner loop begains\n",
      "2 P\n",
      "2 a\n",
      "2 k\n",
      "Inner loop begains\n",
      "3 P\n",
      "3 a\n",
      "3 k\n",
      "Inner loop begains\n",
      "4 P\n",
      "4 a\n",
      "4 k\n",
      "Inner loop begains\n",
      "5 P\n",
      "5 a\n",
      "5 k\n"
     ]
    }
   ],
   "source": [
    "for a in range(6):\n",
    "    print(\"Inner loop begains\") #outer loop execute after the complete execution of inner loop\n",
    "    for char in \"Pak\": \n",
    "        print(a, char)\n",
    "    "
   ]
  },
  {
   "cell_type": "code",
   "execution_count": 5,
   "id": "adc6de5d",
   "metadata": {},
   "outputs": [
    {
     "name": "stdout",
     "output_type": "stream",
     "text": [
      "Input a Table Number 2\n",
      "2 * 1 = 2\n",
      "2 * 2 = 4\n",
      "2 * 3 = 6\n",
      "2 * 4 = 8\n",
      "2 * 5 = 10\n",
      "2 * 6 = 12\n",
      "2 * 7 = 14\n",
      "2 * 8 = 16\n",
      "2 * 9 = 18\n",
      "2 * 10 = 20\n"
     ]
    }
   ],
   "source": [
    "tableNum = int(input(\"Input Table Number \"))\n",
    "for a in range(1,11):\n",
    "    print(f\"{tableNum} * {a} = {tableNum*a}\")"
   ]
  },
  {
   "cell_type": "code",
   "execution_count": 12,
   "id": "2b970399",
   "metadata": {},
   "outputs": [
    {
     "name": "stdout",
     "output_type": "stream",
     "text": [
      "enter the range of tables 2\n",
      "1 * 1 = 1\n",
      "2 * 1 = 2\n",
      "1 * 2 = 2\n",
      "2 * 2 = 4\n",
      "1 * 3 = 3\n",
      "2 * 3 = 6\n",
      "1 * 4 = 4\n",
      "2 * 4 = 8\n",
      "1 * 5 = 5\n",
      "2 * 5 = 10\n",
      "1 * 6 = 6\n",
      "2 * 6 = 12\n",
      "1 * 7 = 7\n",
      "2 * 7 = 14\n",
      "1 * 8 = 8\n",
      "2 * 8 = 16\n",
      "1 * 9 = 9\n",
      "2 * 9 = 18\n",
      "1 * 10 = 10\n",
      "2 * 10 = 20\n"
     ]
    }
   ],
   "source": [
    "tables = int(input(\"enter the range of tables \"))\n",
    "for a in range(1,11):\n",
    "    for tables in range(1,tables+1):\n",
    "        print(f\"{tables} * {a} = {tables*a}\" )"
   ]
  },
  {
   "cell_type": "code",
   "execution_count": 16,
   "id": "c9850bba",
   "metadata": {},
   "outputs": [
    {
     "name": "stdout",
     "output_type": "stream",
     "text": [
      "Enter numbers of table range required 5\n",
      "2 * 1 = 2\n",
      "2 * 2 = 4\n",
      "2 * 3 = 6\n",
      "2 * 4 = 8\n",
      "2 * 5 = 10\n",
      "2 * 6 = 12\n",
      "2 * 7 = 14\n",
      "2 * 8 = 16\n",
      "2 * 9 = 18\n",
      "2 * 10 = 20\n",
      "3 * 1 = 3\n",
      "3 * 2 = 6\n",
      "3 * 3 = 9\n",
      "3 * 4 = 12\n",
      "3 * 5 = 15\n",
      "3 * 6 = 18\n",
      "3 * 7 = 21\n",
      "3 * 8 = 24\n",
      "3 * 9 = 27\n",
      "3 * 10 = 30\n",
      "4 * 1 = 4\n",
      "4 * 2 = 8\n",
      "4 * 3 = 12\n",
      "4 * 4 = 16\n",
      "4 * 5 = 20\n",
      "4 * 6 = 24\n",
      "4 * 7 = 28\n",
      "4 * 8 = 32\n",
      "4 * 9 = 36\n",
      "4 * 10 = 40\n",
      "5 * 1 = 5\n",
      "5 * 2 = 10\n",
      "5 * 3 = 15\n",
      "5 * 4 = 20\n",
      "5 * 5 = 25\n",
      "5 * 6 = 30\n",
      "5 * 7 = 35\n",
      "5 * 8 = 40\n",
      "5 * 9 = 45\n",
      "5 * 10 = 50\n"
     ]
    }
   ],
   "source": [
    "tables = int(input(\"Enter numbers of table range required \"))\n",
    "for tables in range(2,tables+1):\n",
    "    for num in range(1,11):\n",
    "        print(f\"{tables} * {num} = {tables*num}\")"
   ]
  },
  {
   "cell_type": "markdown",
   "id": "c05a5f83",
   "metadata": {},
   "source": [
    "### Type Casting"
   ]
  },
  {
   "cell_type": "code",
   "execution_count": 18,
   "id": "70418ce2",
   "metadata": {},
   "outputs": [
    {
     "name": "stdout",
     "output_type": "stream",
     "text": [
      "Input something 2\n"
     ]
    }
   ],
   "source": [
    "userInput = input(\"Input something \")"
   ]
  },
  {
   "cell_type": "code",
   "execution_count": 19,
   "id": "8cccc4ce",
   "metadata": {},
   "outputs": [
    {
     "name": "stdout",
     "output_type": "stream",
     "text": [
      "Input something 3\n"
     ]
    },
    {
     "data": {
      "text/plain": [
       "str"
      ]
     },
     "execution_count": 19,
     "metadata": {},
     "output_type": "execute_result"
    }
   ],
   "source": [
    "userInput = input(\"Input something \")\n",
    "type(userInput) #by default input console always return str data type"
   ]
  },
  {
   "cell_type": "code",
   "execution_count": 24,
   "id": "b81ccb7f",
   "metadata": {},
   "outputs": [
    {
     "name": "stdout",
     "output_type": "stream",
     "text": [
      "Input something Aslam\n"
     ]
    },
    {
     "data": {
      "text/plain": [
       "str"
      ]
     },
     "execution_count": 24,
     "metadata": {},
     "output_type": "execute_result"
    }
   ],
   "source": [
    "userInput = input(\"Input something \")\n",
    "type(userInput)"
   ]
  },
  {
   "cell_type": "code",
   "execution_count": 22,
   "id": "0251bc97",
   "metadata": {},
   "outputs": [
    {
     "name": "stdout",
     "output_type": "stream",
     "text": [
      "input something 4\n"
     ]
    },
    {
     "data": {
      "text/plain": [
       "int"
      ]
     },
     "execution_count": 22,
     "metadata": {},
     "output_type": "execute_result"
    }
   ],
   "source": [
    "userInput = int(input(\"input something \")) #we performed type casting for getting integer data type\n",
    "type(userInput)"
   ]
  },
  {
   "cell_type": "code",
   "execution_count": 23,
   "id": "ba7641c6",
   "metadata": {},
   "outputs": [
    {
     "name": "stdout",
     "output_type": "stream",
     "text": [
      "input something aslam\n"
     ]
    },
    {
     "ename": "ValueError",
     "evalue": "invalid literal for int() with base 10: 'aslam'",
     "output_type": "error",
     "traceback": [
      "\u001b[1;31m---------------------------------------------------------------------------\u001b[0m",
      "\u001b[1;31mValueError\u001b[0m                                Traceback (most recent call last)",
      "\u001b[1;32m~\\AppData\\Local\\Temp/ipykernel_2116/1561087323.py\u001b[0m in \u001b[0;36m<module>\u001b[1;34m\u001b[0m\n\u001b[1;32m----> 1\u001b[1;33m \u001b[0muserInput\u001b[0m \u001b[1;33m=\u001b[0m \u001b[0mint\u001b[0m\u001b[1;33m(\u001b[0m\u001b[0minput\u001b[0m\u001b[1;33m(\u001b[0m\u001b[1;34m\"input something \"\u001b[0m\u001b[1;33m)\u001b[0m\u001b[1;33m)\u001b[0m \u001b[1;31m#we performed type casting for getting integer data type\u001b[0m\u001b[1;33m\u001b[0m\u001b[1;33m\u001b[0m\u001b[0m\n\u001b[0m\u001b[0;32m      2\u001b[0m \u001b[0mtype\u001b[0m\u001b[1;33m(\u001b[0m\u001b[0muserInput\u001b[0m\u001b[1;33m)\u001b[0m\u001b[1;33m\u001b[0m\u001b[1;33m\u001b[0m\u001b[0m\n",
      "\u001b[1;31mValueError\u001b[0m: invalid literal for int() with base 10: 'aslam'"
     ]
    }
   ],
   "source": [
    "userInput = int(input(\"input something \")) #here after type casting into int, if input any str then error generated \n",
    "type(userInput) "
   ]
  },
  {
   "cell_type": "code",
   "execution_count": 26,
   "id": "23728a76",
   "metadata": {},
   "outputs": [
    {
     "data": {
      "text/plain": [
       "4.0"
      ]
     },
     "execution_count": 26,
     "metadata": {},
     "output_type": "execute_result"
    }
   ],
   "source": [
    "float(4) #int can be converted into float data type after casting "
   ]
  },
  {
   "cell_type": "code",
   "execution_count": null,
   "id": "587ec392",
   "metadata": {},
   "outputs": [],
   "source": []
  },
  {
   "cell_type": "code",
   "execution_count": 28,
   "id": "ca826c41",
   "metadata": {},
   "outputs": [
    {
     "name": "stdout",
     "output_type": "stream",
     "text": [
      "input something 2.3\n"
     ]
    },
    {
     "data": {
      "text/plain": [
       "float"
      ]
     },
     "execution_count": 28,
     "metadata": {},
     "output_type": "execute_result"
    }
   ],
   "source": [
    "userInput = float(input(\"input something \")) #we performed type casting for getting float data type\n",
    "type(userInput)"
   ]
  },
  {
   "cell_type": "markdown",
   "id": "d91430a9",
   "metadata": {},
   "source": [
    "# Changing Case of String"
   ]
  },
  {
   "cell_type": "code",
   "execution_count": 1,
   "id": "fa36e92e",
   "metadata": {},
   "outputs": [
    {
     "data": {
      "text/plain": [
       "str"
      ]
     },
     "execution_count": 1,
     "metadata": {},
     "output_type": "execute_result"
    }
   ],
   "source": [
    "type(\"I am a string\")"
   ]
  },
  {
   "cell_type": "code",
   "execution_count": 3,
   "id": "fdcb5443",
   "metadata": {},
   "outputs": [
    {
     "data": {
      "text/plain": [
       "str"
      ]
     },
     "execution_count": 3,
     "metadata": {},
     "output_type": "execute_result"
    }
   ],
   "source": [
    "name = \"Gulshan Ali\"\n",
    "type(name)"
   ]
  },
  {
   "cell_type": "code",
   "execution_count": 6,
   "id": "5a4e7bc6",
   "metadata": {},
   "outputs": [
    {
     "data": {
      "text/plain": [
       "'GULSHAN ALI'"
      ]
     },
     "execution_count": 6,
     "metadata": {},
     "output_type": "execute_result"
    }
   ],
   "source": [
    "name.upper()"
   ]
  },
  {
   "cell_type": "code",
   "execution_count": 7,
   "id": "7fd3a909",
   "metadata": {},
   "outputs": [
    {
     "data": {
      "text/plain": [
       "'gulshan ali'"
      ]
     },
     "execution_count": 7,
     "metadata": {},
     "output_type": "execute_result"
    }
   ],
   "source": [
    "name.lower()"
   ]
  },
  {
   "cell_type": "code",
   "execution_count": 9,
   "id": "3ad4fc14",
   "metadata": {},
   "outputs": [
    {
     "data": {
      "text/plain": [
       "'Gulshan Ali'"
      ]
     },
     "execution_count": 9,
     "metadata": {},
     "output_type": "execute_result"
    }
   ],
   "source": [
    "name = \"GULSHAN ALI\"\n",
    "name.title() #itcoverts string in title form that is first later of evrey world will be capital"
   ]
  },
  {
   "cell_type": "code",
   "execution_count": 16,
   "id": "a819c44b",
   "metadata": {},
   "outputs": [
    {
     "name": "stdout",
     "output_type": "stream",
     "text": [
      "Enter a Letter: ASD\n",
      "asd\n"
     ]
    }
   ],
   "source": [
    "text = input(\"Enter a Letter: \").lower() \n",
    "print (text)"
   ]
  },
  {
   "cell_type": "code",
   "execution_count": 20,
   "id": "21a57e53",
   "metadata": {},
   "outputs": [
    {
     "name": "stdout",
     "output_type": "stream",
     "text": [
      "Enter a Letter: AS\n"
     ]
    },
    {
     "data": {
      "text/plain": [
       "'as'"
      ]
     },
     "execution_count": 20,
     "metadata": {},
     "output_type": "execute_result"
    }
   ],
   "source": [
    "text = input(\"Enter a Letter: \")\n",
    "text.lower() \n"
   ]
  },
  {
   "cell_type": "code",
   "execution_count": 21,
   "id": "e33a6714",
   "metadata": {},
   "outputs": [
    {
     "name": "stdout",
     "output_type": "stream",
     "text": [
      "Enter a Letter: AC\n",
      "AC\n"
     ]
    }
   ],
   "source": [
    "text = input(\"Enter a Letter: \")\n",
    "text.lower() \n",
    "print(text)"
   ]
  }
 ],
 "metadata": {
  "kernelspec": {
   "display_name": "Python 3 (ipykernel)",
   "language": "python",
   "name": "python3"
  },
  "language_info": {
   "codemirror_mode": {
    "name": "ipython",
    "version": 3
   },
   "file_extension": ".py",
   "mimetype": "text/x-python",
   "name": "python",
   "nbconvert_exporter": "python",
   "pygments_lexer": "ipython3",
   "version": "3.9.7"
  }
 },
 "nbformat": 4,
 "nbformat_minor": 5
}
